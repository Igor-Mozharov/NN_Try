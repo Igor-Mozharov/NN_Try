{
 "cells": [
  {
   "cell_type": "code",
   "execution_count": 14,
   "id": "dd029161",
   "metadata": {},
   "outputs": [],
   "source": [
    "import numpy as np\n",
    "from tensorflow import keras\n",
    "from keras.utils import to_categorical\n",
    "from keras.datasets import cifar10\n",
    "from keras.applications.densenet import DenseNet169\n",
    "from keras.layers import Dense, Flatten, Dropout, BatchNormalization\n",
    "from keras.models import Sequential"
   ]
  },
  {
   "cell_type": "code",
   "execution_count": 27,
   "id": "b4fd8115",
   "metadata": {},
   "outputs": [],
   "source": [
    "(x_train, y_train), (x_test, y_test) = cifar10.load_data()\n",
    "x_train, x_test = np.array(x_train, np.float32), np.array(x_test, np.float32)\n",
    "x_train, x_test = x_train / 255., x_test / 255.\n",
    "y_train, y_test = to_categorical(y_train, 10), to_categorical(y_test, 10)"
   ]
  },
  {
   "cell_type": "code",
   "execution_count": 28,
   "id": "fa29a558",
   "metadata": {},
   "outputs": [],
   "source": [
    "model_den = DenseNet169(weights='imagenet', include_top=False)\n",
    "model_den.trainable = True\n",
    "# set_trainable = False\n",
    "# for layer in model_den.layers:\n",
    "#     if layer.name == 'conv4_block5_1_conv':\n",
    "#         set_trainable = True\n",
    "#     if set_trainable:\n",
    "#         layer.trainable = True\n",
    "#     else:\n",
    "#         layer.trainable = False"
   ]
  },
  {
   "cell_type": "code",
   "execution_count": 29,
   "id": "1e57ec11",
   "metadata": {},
   "outputs": [],
   "source": [
    "x = model_den.output\n",
    "x = keras.layers.GlobalAveragePooling2D()(x)\n",
    "x = keras.layers.Dense(1050, activation = 'relu')(x)\n",
    "x = BatchNormalization()(x)\n",
    "x = Dropout(0.3)(x)\n",
    "x = keras.layers.Dense(256, activation = 'relu')(x)\n",
    "x = BatchNormalization()(x)\n",
    "x = Dropout(0.2)(x)  \n",
    "x = keras.layers.Dense(64, activation = 'relu')(x)\n",
    "x = BatchNormalization()(x)\n",
    "x = Dropout(0.3)(x) \n",
    "last_layer = keras.layers.Dense(10, activation = 'softmax')(x)\n",
    "model = keras.models.Model(inputs = model_den.input, outputs = last_layer)\n",
    "model.compile(optimizer='adamax', loss='binary_crossentropy', metrics=['accuracy'])"
   ]
  },
  {
   "cell_type": "code",
   "execution_count": 30,
   "id": "35f465ab",
   "metadata": {},
   "outputs": [
    {
     "name": "stdout",
     "output_type": "stream",
     "text": [
      "Epoch 1/7\n",
      "167/167 [==============================] - 102s 499ms/step - loss: 0.5997 - accuracy: 0.3967 - val_loss: 0.4361 - val_accuracy: 0.4901\n",
      "Epoch 2/7\n",
      "167/167 [==============================] - 86s 517ms/step - loss: 0.3014 - accuracy: 0.6497 - val_loss: 0.2315 - val_accuracy: 0.6612\n",
      "Epoch 3/7\n",
      "167/167 [==============================] - 90s 541ms/step - loss: 0.1660 - accuracy: 0.7644 - val_loss: 0.1354 - val_accuracy: 0.7608\n",
      "Epoch 4/7\n",
      "167/167 [==============================] - 85s 507ms/step - loss: 0.1171 - accuracy: 0.8281 - val_loss: 0.1103 - val_accuracy: 0.8006\n",
      "Epoch 5/7\n",
      "167/167 [==============================] - 87s 518ms/step - loss: 0.0872 - accuracy: 0.8758 - val_loss: 0.1081 - val_accuracy: 0.7947\n",
      "Epoch 6/7\n",
      "167/167 [==============================] - 87s 522ms/step - loss: 0.0662 - accuracy: 0.9106 - val_loss: 0.1002 - val_accuracy: 0.8166\n",
      "Epoch 7/7\n",
      "167/167 [==============================] - 86s 517ms/step - loss: 0.0520 - accuracy: 0.9317 - val_loss: 0.1123 - val_accuracy: 0.8052\n"
     ]
    }
   ],
   "source": [
    "result = model.fit(x_train, y_train, batch_size=300, epochs=7, validation_data=(x_test, y_test))   #300"
   ]
  },
  {
   "cell_type": "code",
   "execution_count": null,
   "id": "14e73460",
   "metadata": {},
   "outputs": [],
   "source": []
  }
 ],
 "metadata": {
  "kernelspec": {
   "display_name": "Python 3 (ipykernel)",
   "language": "python",
   "name": "python3"
  },
  "language_info": {
   "codemirror_mode": {
    "name": "ipython",
    "version": 3
   },
   "file_extension": ".py",
   "mimetype": "text/x-python",
   "name": "python",
   "nbconvert_exporter": "python",
   "pygments_lexer": "ipython3",
   "version": "3.10.6"
  }
 },
 "nbformat": 4,
 "nbformat_minor": 5
}
