{
 "cells": [
  {
   "cell_type": "code",
   "execution_count": 4,
   "id": "6eff954d",
   "metadata": {},
   "outputs": [],
   "source": [
    "import tensorflow as tf\n",
    "import numpy as np\n",
    "from tensorflow import keras\n",
    "from keras.utils import to_categorical\n",
    "from keras.datasets import cifar10\n",
    "from keras.applications.xception import Xception\n",
    "from keras.layers import Dense, Flatten, Dropout\n",
    "from keras.models import Sequential"
   ]
  },
  {
   "cell_type": "code",
   "execution_count": 5,
   "id": "3c50c5ca",
   "metadata": {},
   "outputs": [],
   "source": [
    "def preprocess_data(X, Y):\n",
    "\tX_p = keras.applications.xception.preprocess_input(X)\n",
    "\tY_p = keras.utils.to_categorical(Y)\n",
    "\treturn X_p, Y_p\n",
    "\n",
    "(x_train, y_train), (x_test, y_test) = cifar10.load_data()\n",
    "\n",
    "model_xception = Xception(weights='imagenet', include_top=False, input_shape=(299, 299, 3))\n",
    "\n",
    "x_train, y_train = preprocess_data(x_train, y_train)\n",
    "x_test, y_test = preprocess_data(x_test, y_test)\n",
    "\n",
    "inp = keras.Input(shape=(32, 32 ,3))\n",
    "inp_resized = keras.layers.Lambda(lambda X: tf.image.resize(X, (299, 299)))(inp)\n",
    "\n",
    "X = model_xception(inp_resized, training=False)\n",
    "X = Flatten()(X)\n",
    "X = Dense(500, activation='relu')(X)\n",
    "X - Dropout(0.3)(X)\n",
    "outputs = Dense(10, activation='softmax')(X)\n",
    "model = keras.Model(inp, outputs)\n",
    "model_xception.trainable = False\n",
    "model.compile(optimizer='nadam', loss='categorical_crossentropy', metrics=['accuracy'])"
   ]
  },
  {
   "cell_type": "code",
   "execution_count": 6,
   "id": "428e8764",
   "metadata": {},
   "outputs": [
    {
     "name": "stdout",
     "output_type": "stream",
     "text": [
      "Epoch 1/5\n",
      "500/500 [==============================] - 2527s 5s/step - loss: 1.0031 - accuracy: 0.8482 - val_loss: 0.3894 - val_accuracy: 0.8741\n",
      "Epoch 2/5\n",
      "500/500 [==============================] - 2510s 5s/step - loss: 0.1900 - accuracy: 0.9363 - val_loss: 0.4468 - val_accuracy: 0.8760\n",
      "Epoch 3/5\n",
      "500/500 [==============================] - 2508s 5s/step - loss: 0.0988 - accuracy: 0.9659 - val_loss: 0.4481 - val_accuracy: 0.8852\n",
      "Epoch 4/5\n",
      "500/500 [==============================] - 2505s 5s/step - loss: 0.0637 - accuracy: 0.9777 - val_loss: 0.5432 - val_accuracy: 0.8849\n",
      "Epoch 5/5\n",
      "500/500 [==============================] - 2505s 5s/step - loss: 0.0625 - accuracy: 0.9783 - val_loss: 0.5899 - val_accuracy: 0.8880\n"
     ]
    }
   ],
   "source": [
    "result = model.fit(x_train, y_train, batch_size=100, epochs=5, validation_data=(x_test, y_test))"
   ]
  },
  {
   "cell_type": "code",
   "execution_count": null,
   "id": "32f940fa",
   "metadata": {},
   "outputs": [],
   "source": []
  }
 ],
 "metadata": {
  "kernelspec": {
   "display_name": "Python 3 (ipykernel)",
   "language": "python",
   "name": "python3"
  },
  "language_info": {
   "codemirror_mode": {
    "name": "ipython",
    "version": 3
   },
   "file_extension": ".py",
   "mimetype": "text/x-python",
   "name": "python",
   "nbconvert_exporter": "python",
   "pygments_lexer": "ipython3",
   "version": "3.10.6"
  }
 },
 "nbformat": 4,
 "nbformat_minor": 5
}
