{
 "cells": [
  {
   "cell_type": "code",
   "execution_count": 1,
   "id": "a9962085",
   "metadata": {},
   "outputs": [
    {
     "name": "stderr",
     "output_type": "stream",
     "text": [
      "2023-07-30 08:36:42.778017: I tensorflow/core/util/port.cc:110] oneDNN custom operations are on. You may see slightly different numerical results due to floating-point round-off errors from different computation orders. To turn them off, set the environment variable `TF_ENABLE_ONEDNN_OPTS=0`.\n",
      "2023-07-30 08:36:42.971264: I tensorflow/core/platform/cpu_feature_guard.cc:182] This TensorFlow binary is optimized to use available CPU instructions in performance-critical operations.\n",
      "To enable the following instructions: AVX2 AVX512F AVX512_VNNI FMA, in other operations, rebuild TensorFlow with the appropriate compiler flags.\n"
     ]
    }
   ],
   "source": [
    "import numpy as np\n",
    "from tensorflow import keras\n",
    "from keras.utils import to_categorical\n",
    "from keras.datasets import cifar10\n",
    "from keras.applications.nasnet import NASNetLarge\n",
    "from keras.applications.vgg16 import VGG16\n",
    "from keras.layers import Dense, Input, Flatten, Dropout, BatchNormalization, Conv2D, MaxPooling2D, concatenate, GlobalAveragePooling2D\n",
    "from keras.models import Sequential, Model"
   ]
  },
  {
   "cell_type": "code",
   "execution_count": 12,
   "id": "6dc258fe",
   "metadata": {},
   "outputs": [],
   "source": [
    "(x_train, y_train), (x_test, y_test) = cifar10.load_data()\n",
    "x_train, x_test = np.array(x_train, np.float32), np.array(x_test, np.float32)\n",
    "x_train, x_test = x_train / 255., x_test / 255.\n",
    "y_train, y_test = to_categorical(y_train, 10), to_categorical(y_test, 10)"
   ]
  },
  {
   "cell_type": "code",
   "execution_count": 13,
   "id": "9f968139",
   "metadata": {},
   "outputs": [],
   "source": [
    "model_nas = NASNetLarge(weights='imagenet', include_top=False, input_shape=(32, 32, 3))\n",
    "model_nas.trainable = False"
   ]
  },
  {
   "cell_type": "code",
   "execution_count": 14,
   "id": "7ab58880",
   "metadata": {},
   "outputs": [],
   "source": [
    "model_vgg = VGG16(weights='imagenet', include_top=False, input_shape=(32, 32, 3))\n",
    "model_vgg.trainable = True"
   ]
  },
  {
   "cell_type": "code",
   "execution_count": 15,
   "id": "e95ffe30",
   "metadata": {},
   "outputs": [],
   "source": [
    "model_nas_out = model_nas.output\n",
    "model_nas_out = GlobalAveragePooling2D()(model_nas_out)\n",
    "model_vgg_out = model_vgg.output\n",
    "model_vgg_out = GlobalAveragePooling2D()(model_vgg_out)\n",
    "x = concatenate([model_nas_out, model_vgg_out])\n",
    "x = Dense(10, activation='softmax', kernel_regularizer='l1')(x)"
   ]
  },
  {
   "cell_type": "code",
   "execution_count": 16,
   "id": "78401057",
   "metadata": {},
   "outputs": [],
   "source": [
    "model = Model(inputs=[model_nas.input, model_vgg.input], outputs=x)\n",
    "model.compile(optimizer='adamax', loss='binary_crossentropy', metrics=['accuracy'])"
   ]
  },
  {
   "cell_type": "code",
   "execution_count": null,
   "id": "b2b88808",
   "metadata": {},
   "outputs": [
    {
     "name": "stdout",
     "output_type": "stream",
     "text": [
      "Epoch 1/10\n",
      "1563/1563 [==============================] - 416s 260ms/step - loss: 0.4429 - accuracy: 0.2440 - val_loss: 0.2850 - val_accuracy: 0.4806\n",
      "Epoch 2/10\n",
      "1563/1563 [==============================] - 408s 261ms/step - loss: 0.2119 - accuracy: 0.6638 - val_loss: 0.1903 - val_accuracy: 0.7350\n",
      "Epoch 3/10\n",
      "1563/1563 [==============================] - 410s 262ms/step - loss: 0.1584 - accuracy: 0.7982 - val_loss: 0.1569 - val_accuracy: 0.8109\n",
      "Epoch 4/10\n",
      "1563/1563 [==============================] - 410s 262ms/step - loss: 0.1334 - accuracy: 0.8498 - val_loss: 0.1454 - val_accuracy: 0.8283\n",
      "Epoch 5/10\n",
      "1563/1563 [==============================] - 408s 261ms/step - loss: 0.1149 - accuracy: 0.8876 - val_loss: 0.1441 - val_accuracy: 0.8391\n",
      "Epoch 6/10\n",
      "1563/1563 [==============================] - 410s 262ms/step - loss: 0.0996 - accuracy: 0.9160 - val_loss: 0.1521 - val_accuracy: 0.8362\n",
      "Epoch 7/10\n",
      "  95/1563 [>.............................] - ETA: 5:58 - loss: 0.0895 - accuracy: 0.9365"
     ]
    }
   ],
   "source": [
    "res = model.fit([x_train, x_train], y_train, batch_size=32, epochs=10, validation_data=([x_test, x_test], y_test))"
   ]
  },
  {
   "cell_type": "code",
   "execution_count": null,
   "id": "19dcc61e",
   "metadata": {},
   "outputs": [],
   "source": []
  }
 ],
 "metadata": {
  "kernelspec": {
   "display_name": "Python 3 (ipykernel)",
   "language": "python",
   "name": "python3"
  },
  "language_info": {
   "codemirror_mode": {
    "name": "ipython",
    "version": 3
   },
   "file_extension": ".py",
   "mimetype": "text/x-python",
   "name": "python",
   "nbconvert_exporter": "python",
   "pygments_lexer": "ipython3",
   "version": "3.10.6"
  }
 },
 "nbformat": 4,
 "nbformat_minor": 5
}
