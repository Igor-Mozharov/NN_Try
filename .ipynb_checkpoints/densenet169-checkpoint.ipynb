{
 "cells": [
  {
   "cell_type": "code",
   "execution_count": 9,
   "id": "dd029161",
   "metadata": {},
   "outputs": [],
   "source": [
    "import numpy as np\n",
    "from tensorflow import keras\n",
    "from keras.utils import to_categorical\n",
    "from keras.datasets import cifar10\n",
    "from keras.applications.densenet import DenseNet169\n",
    "from keras.layers import Dense, Flatten, Dropout\n",
    "from keras.models import Sequential"
   ]
  },
  {
   "cell_type": "code",
   "execution_count": 10,
   "id": "b4fd8115",
   "metadata": {},
   "outputs": [],
   "source": [
    "(x_train, y_train), (x_test, y_test) = cifar10.load_data()\n",
    "x_train, x_test = np.array(x_train, np.float32), np.array(x_test, np.float32)\n",
    "x_train, x_test = x_train / 255., x_test / 255.\n",
    "y_train, y_test = to_categorical(y_train, 10), to_categorical(y_test, 10)"
   ]
  },
  {
   "cell_type": "code",
   "execution_count": 11,
   "id": "fa29a558",
   "metadata": {},
   "outputs": [],
   "source": [
    "model_den = DenseNet169(weights='imagenet', include_top=False, input_shape=(32, 32, 3))\n",
    "model_den.trainable = True\n",
    "set_trainable = False\n",
    "for layer in model_den.layers:\n",
    "    if layer.name == 'conv4_block5_1_conv':\n",
    "        set_trainable = True\n",
    "    if set_trainable:\n",
    "        layer.trainable = True\n",
    "    else:\n",
    "        layer.trainable = False"
   ]
  },
  {
   "cell_type": "code",
   "execution_count": 12,
   "id": "1e57ec11",
   "metadata": {},
   "outputs": [],
   "source": [
    "model = Sequential()\n",
    "model.add(model_den)\n",
    "model.add(Flatten())\n",
    "# model.add(Dropout(0.3))\n",
    "model.add(Dense(1000, activation='relu'))\n",
    "# model.add(Dropout(0.3))\n",
    "model.add(Dense(512, activation='relu'))\n",
    "# model.add(Dropout(0.3))\n",
    "model.add(Dense(128, activation='relu'))\n",
    "model.add(Dropout(0.3))\n",
    "model.add(Dense(10, activation='softmax'))\n",
    "model.compile(optimizer='adamax', loss='binary_crossentropy', metrics=['accuracy'])"
   ]
  },
  {
   "cell_type": "code",
   "execution_count": 13,
   "id": "35f465ab",
   "metadata": {},
   "outputs": [
    {
     "name": "stdout",
     "output_type": "stream",
     "text": [
      "Epoch 1/6\n",
      "100/100 [==============================] - 63s 494ms/step - loss: 0.2234 - accuracy: 0.5307 - val_loss: 0.2178 - val_accuracy: 0.6166\n",
      "Epoch 2/6\n",
      "100/100 [==============================] - 49s 489ms/step - loss: 0.1157 - accuracy: 0.7862 - val_loss: 0.1282 - val_accuracy: 0.7518\n",
      "Epoch 3/6\n",
      "100/100 [==============================] - 56s 565ms/step - loss: 0.0748 - accuracy: 0.8661 - val_loss: 0.1193 - val_accuracy: 0.7743\n",
      "Epoch 4/6\n",
      "100/100 [==============================] - 89s 888ms/step - loss: 0.0478 - accuracy: 0.9176 - val_loss: 0.1392 - val_accuracy: 0.7723\n",
      "Epoch 5/6\n",
      "100/100 [==============================] - 61s 607ms/step - loss: 0.0321 - accuracy: 0.9459 - val_loss: 0.1642 - val_accuracy: 0.7736\n",
      "Epoch 6/6\n",
      "100/100 [==============================] - 55s 552ms/step - loss: 0.0229 - accuracy: 0.9633 - val_loss: 0.1783 - val_accuracy: 0.7772\n"
     ]
    }
   ],
   "source": [
    "result = model.fit(x_train, y_train, batch_size=500, epochs=6, validation_data=(x_test, y_test))"
   ]
  },
  {
   "cell_type": "code",
   "execution_count": null,
   "id": "14e73460",
   "metadata": {},
   "outputs": [],
   "source": []
  }
 ],
 "metadata": {
  "kernelspec": {
   "display_name": "Python 3 (ipykernel)",
   "language": "python",
   "name": "python3"
  },
  "language_info": {
   "codemirror_mode": {
    "name": "ipython",
    "version": 3
   },
   "file_extension": ".py",
   "mimetype": "text/x-python",
   "name": "python",
   "nbconvert_exporter": "python",
   "pygments_lexer": "ipython3",
   "version": "3.10.6"
  }
 },
 "nbformat": 4,
 "nbformat_minor": 5
}
