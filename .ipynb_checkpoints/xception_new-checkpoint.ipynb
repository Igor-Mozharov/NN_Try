{
 "cells": [
  {
   "cell_type": "code",
   "execution_count": 2,
   "id": "6eff954d",
   "metadata": {},
   "outputs": [
    {
     "name": "stderr",
     "output_type": "stream",
     "text": [
      "2023-07-30 20:30:32.290061: I tensorflow/core/util/port.cc:110] oneDNN custom operations are on. You may see slightly different numerical results due to floating-point round-off errors from different computation orders. To turn them off, set the environment variable `TF_ENABLE_ONEDNN_OPTS=0`.\n",
      "2023-07-30 20:30:32.499289: I tensorflow/core/platform/cpu_feature_guard.cc:182] This TensorFlow binary is optimized to use available CPU instructions in performance-critical operations.\n",
      "To enable the following instructions: AVX2 AVX512F AVX512_VNNI FMA, in other operations, rebuild TensorFlow with the appropriate compiler flags.\n"
     ]
    }
   ],
   "source": [
    "import tensorflow as tf\n",
    "import numpy as np\n",
    "from tensorflow import keras\n",
    "from keras.utils import to_categorical\n",
    "from keras.datasets import cifar10\n",
    "from keras.applications.xception import Xception\n",
    "from keras.layers import Dense, Flatten, Dropout\n",
    "from keras.models import Sequential"
   ]
  },
  {
   "cell_type": "code",
   "execution_count": 3,
   "id": "3c50c5ca",
   "metadata": {},
   "outputs": [],
   "source": [
    "def preprocess_data(X, Y):\n",
    "\tX_p = keras.applications.xception.preprocess_input(X)\n",
    "\tY_p = keras.utils.to_categorical(Y)\n",
    "\treturn X_p, Y_p\n",
    "\n",
    "(x_train, y_train), (x_test, y_test) = cifar10.load_data()\n",
    "\n",
    "model_xception = Xception(weights='imagenet', include_top=False, input_shape=(299, 299, 3))\n",
    "\n",
    "x_train, y_train = preprocess_data(x_train, y_train)\n",
    "x_test, y_test = preprocess_data(x_test, y_test)\n",
    "\n",
    "inp = keras.Input(shape=(32, 32 ,3))\n",
    "inp_resized = keras.layers.Lambda(lambda X: tf.image.resize(X, (299, 299)))(inp)\n",
    "\n",
    "X = model_xception(inp_resized, training=False)\n",
    "X = Flatten()(X)\n",
    "X = Dense(500, activation='relu')(X)\n",
    "X - Dropout(0.3)(X)\n",
    "outputs = Dense(10, activation='softmax')(X)\n",
    "model = keras.Model(inp, outputs)\n",
    "model_xception.trainable = False\n",
    "model.compile(optimizer='adamax', loss='binary_crossentropy', metrics=['accuracy'])"
   ]
  },
  {
   "cell_type": "code",
   "execution_count": null,
   "id": "428e8764",
   "metadata": {},
   "outputs": [
    {
     "name": "stdout",
     "output_type": "stream",
     "text": [
      "Epoch 1/3\n",
      "1563/1563 [==============================] - 2907s 2s/step - loss: 0.1363 - accuracy: 0.8646 - val_loss: 0.0646 - val_accuracy: 0.8922\n",
      "Epoch 2/3\n",
      " 104/1563 [>.............................] - ETA: 40:50 - loss: 0.0327 - accuracy: 0.9522"
     ]
    }
   ],
   "source": [
    "result = model.fit(x_train, y_train, batch_size=32, epochs=3, validation_data=(x_test, y_test))"
   ]
  },
  {
   "cell_type": "code",
   "execution_count": null,
   "id": "32f940fa",
   "metadata": {},
   "outputs": [],
   "source": [
    "htr = result.history\n",
    "loss = htr['loss']\n",
    "val_loss = htr['val_loss']\n",
    "accuracy = htr['accuracy']\n",
    "val_accuracy = htr['val_accuracy']\n",
    "epochs = range(1, len(accuracy) + 1)"
   ]
  },
  {
   "cell_type": "code",
   "execution_count": null,
   "id": "2ff0402e",
   "metadata": {},
   "outputs": [],
   "source": [
    "plt.plot(epochs, loss, label='loss')\n",
    "plt.plot(epochs, val_loss, label='val_loss')\n",
    "plt.title('val_loss + loss')\n",
    "plt.legend()\n",
    "plt.show()"
   ]
  },
  {
   "cell_type": "code",
   "execution_count": null,
   "id": "60dae1d9",
   "metadata": {},
   "outputs": [],
   "source": [
    "plt.plot(epochs, accuracy, label='accuracy')\n",
    "plt.plot(epochs, val_accuracy, label='val_accuracy')\n",
    "plt.title('val_accuracy + accuracy')\n",
    "plt.legend()\n",
    "plt.show()"
   ]
  }
 ],
 "metadata": {
  "kernelspec": {
   "display_name": "Python 3 (ipykernel)",
   "language": "python",
   "name": "python3"
  },
  "language_info": {
   "codemirror_mode": {
    "name": "ipython",
    "version": 3
   },
   "file_extension": ".py",
   "mimetype": "text/x-python",
   "name": "python",
   "nbconvert_exporter": "python",
   "pygments_lexer": "ipython3",
   "version": "3.10.6"
  }
 },
 "nbformat": 4,
 "nbformat_minor": 5
}
