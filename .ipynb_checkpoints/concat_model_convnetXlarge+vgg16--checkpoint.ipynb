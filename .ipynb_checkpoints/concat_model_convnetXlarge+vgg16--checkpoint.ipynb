{
 "cells": [
  {
   "cell_type": "code",
   "execution_count": 2,
   "id": "a9962085",
   "metadata": {},
   "outputs": [
    {
     "name": "stderr",
     "output_type": "stream",
     "text": [
      "2023-08-01 02:49:01.689164: I tensorflow/core/util/port.cc:110] oneDNN custom operations are on. You may see slightly different numerical results due to floating-point round-off errors from different computation orders. To turn them off, set the environment variable `TF_ENABLE_ONEDNN_OPTS=0`.\n",
      "2023-08-01 02:49:01.878694: I tensorflow/core/platform/cpu_feature_guard.cc:182] This TensorFlow binary is optimized to use available CPU instructions in performance-critical operations.\n",
      "To enable the following instructions: AVX2 AVX512F AVX512_VNNI FMA, in other operations, rebuild TensorFlow with the appropriate compiler flags.\n"
     ]
    }
   ],
   "source": [
    "import numpy as np\n",
    "import matplotlib.pyplot as plt\n",
    "from tensorflow import keras\n",
    "from keras.utils import to_categorical\n",
    "from keras.datasets import cifar10\n",
    "from keras.applications.convnext import ConvNeXtXLarge\n",
    "from keras.applications.vgg16 import VGG16\n",
    "from keras.layers import Dense, Input, Flatten, Dropout, BatchNormalization, Conv2D, MaxPooling2D, concatenate, GlobalAveragePooling2D\n",
    "from keras.models import Sequential, Model\n",
    "from keras.optimizers import Adamax"
   ]
  },
  {
   "cell_type": "code",
   "execution_count": 3,
   "id": "6dc258fe",
   "metadata": {},
   "outputs": [],
   "source": [
    "(x_train, y_train), (x_test, y_test) = cifar10.load_data()\n",
    "x_train, x_test = np.array(x_train, np.float32), np.array(x_test, np.float32)\n",
    "x_train, x_test = x_train / 255., x_test / 255.\n",
    "y_train, y_test = to_categorical(y_train, 10), to_categorical(y_test, 10)"
   ]
  },
  {
   "cell_type": "code",
   "execution_count": 4,
   "id": "9f968139",
   "metadata": {},
   "outputs": [],
   "source": [
    "model_nas = ConvNeXtXLarge(weights='imagenet', include_top=False, input_shape=(32, 32, 3), pooling='max')\n",
    "model_nas.trainable = False"
   ]
  },
  {
   "cell_type": "code",
   "execution_count": 5,
   "id": "7ab58880",
   "metadata": {},
   "outputs": [],
   "source": [
    "model_vgg = VGG16(weights='imagenet', include_top=False, input_shape=(32, 32, 3), pooling='max') # no pooling\n",
    "model_vgg.trainable = True"
   ]
  },
  {
   "cell_type": "code",
   "execution_count": 6,
   "id": "e95ffe30",
   "metadata": {},
   "outputs": [],
   "source": [
    "model_nas_out = model_nas.output\n",
    "model_nas_out = Flatten()(model_nas_out)\n",
    "model_vgg_out = model_vgg.output\n",
    "model_vgg_out = Flatten()(model_vgg_out)\n",
    "x = concatenate([model_nas_out, model_vgg_out])\n",
    "x = Dense(10, activation='softmax')(x)"
   ]
  },
  {
   "cell_type": "code",
   "execution_count": 7,
   "id": "78401057",
   "metadata": {},
   "outputs": [],
   "source": [
    "model = Model(inputs=[model_nas.input, model_vgg.input], outputs=x)\n",
    "model.compile(optimizer='adamax', loss='binary_crossentropy', metrics=['accuracy'])"
   ]
  },
  {
   "cell_type": "code",
   "execution_count": 60,
   "id": "b2b88808",
   "metadata": {},
   "outputs": [
    {
     "name": "stdout",
     "output_type": "stream",
     "text": [
      "Epoch 1/10\n",
      "500/500 [==============================] - 208s 407ms/step - loss: 0.2607 - accuracy: 0.4348 - val_loss: 0.2108 - val_accuracy: 0.5484\n",
      "Epoch 2/10\n",
      "500/500 [==============================] - 211s 423ms/step - loss: 0.1844 - accuracy: 0.6101 - val_loss: 0.1556 - val_accuracy: 0.6752\n",
      "Epoch 3/10\n",
      "500/500 [==============================] - 208s 416ms/step - loss: 0.1351 - accuracy: 0.7239 - val_loss: 0.1187 - val_accuracy: 0.7619\n",
      "Epoch 4/10\n",
      "500/500 [==============================] - 209s 417ms/step - loss: 0.1020 - accuracy: 0.7940 - val_loss: 0.1024 - val_accuracy: 0.7933\n",
      "Epoch 5/10\n",
      "500/500 [==============================] - 207s 415ms/step - loss: 0.0811 - accuracy: 0.8403 - val_loss: 0.0860 - val_accuracy: 0.8345\n",
      "Epoch 6/10\n",
      "500/500 [==============================] - 208s 416ms/step - loss: 0.0644 - accuracy: 0.8751 - val_loss: 0.0895 - val_accuracy: 0.8304\n",
      "Epoch 7/10\n",
      "500/500 [==============================] - 209s 419ms/step - loss: 0.0498 - accuracy: 0.9056 - val_loss: 0.0860 - val_accuracy: 0.8423\n",
      "Epoch 8/10\n",
      "500/500 [==============================] - 211s 422ms/step - loss: 0.0385 - accuracy: 0.9274 - val_loss: 0.0851 - val_accuracy: 0.8553\n",
      "Epoch 9/10\n",
      "500/500 [==============================] - 207s 415ms/step - loss: 0.0279 - accuracy: 0.9495 - val_loss: 0.0865 - val_accuracy: 0.8544\n",
      "Epoch 10/10\n",
      "500/500 [==============================] - 208s 416ms/step - loss: 0.0209 - accuracy: 0.9628 - val_loss: 0.0995 - val_accuracy: 0.8532\n"
     ]
    }
   ],
   "source": [
    "res = model.fit([x_train, x_train], y_train, batch_size=100, epochs=10, validation_data=([x_test, x_test], y_test)) #100"
   ]
  },
  {
   "cell_type": "code",
   "execution_count": 8,
   "id": "19dcc61e",
   "metadata": {},
   "outputs": [
    {
     "ename": "NameError",
     "evalue": "name 'res' is not defined",
     "output_type": "error",
     "traceback": [
      "\u001b[0;31m---------------------------------------------------------------------------\u001b[0m",
      "\u001b[0;31mNameError\u001b[0m                                 Traceback (most recent call last)",
      "Cell \u001b[0;32mIn[8], line 1\u001b[0m\n\u001b[0;32m----> 1\u001b[0m htr \u001b[38;5;241m=\u001b[39m \u001b[43mres\u001b[49m\u001b[38;5;241m.\u001b[39mhistory\n\u001b[1;32m      2\u001b[0m loss \u001b[38;5;241m=\u001b[39m htr[\u001b[38;5;124m'\u001b[39m\u001b[38;5;124mloss\u001b[39m\u001b[38;5;124m'\u001b[39m]\n\u001b[1;32m      3\u001b[0m val_loss \u001b[38;5;241m=\u001b[39m htr[\u001b[38;5;124m'\u001b[39m\u001b[38;5;124mval_loss\u001b[39m\u001b[38;5;124m'\u001b[39m]\n",
      "\u001b[0;31mNameError\u001b[0m: name 'res' is not defined"
     ]
    }
   ],
   "source": [
    "htr = res.history\n",
    "loss = htr['loss']\n",
    "val_loss = htr['val_loss']\n",
    "accuracy = htr['accuracy']\n",
    "val_accuracy = htr['val_accuracy']\n",
    "epochs = range(1, len(accuracy) + 1)"
   ]
  },
  {
   "cell_type": "code",
   "execution_count": 9,
   "id": "344297ea",
   "metadata": {},
   "outputs": [
    {
     "ename": "NameError",
     "evalue": "name 'epochs' is not defined",
     "output_type": "error",
     "traceback": [
      "\u001b[0;31m---------------------------------------------------------------------------\u001b[0m",
      "\u001b[0;31mNameError\u001b[0m                                 Traceback (most recent call last)",
      "Cell \u001b[0;32mIn[9], line 1\u001b[0m\n\u001b[0;32m----> 1\u001b[0m plt\u001b[38;5;241m.\u001b[39mplot(\u001b[43mepochs\u001b[49m, loss, label\u001b[38;5;241m=\u001b[39m\u001b[38;5;124m'\u001b[39m\u001b[38;5;124mloss\u001b[39m\u001b[38;5;124m'\u001b[39m)\n\u001b[1;32m      2\u001b[0m plt\u001b[38;5;241m.\u001b[39mplot(epochs, val_loss, label\u001b[38;5;241m=\u001b[39m\u001b[38;5;124m'\u001b[39m\u001b[38;5;124mval_loss\u001b[39m\u001b[38;5;124m'\u001b[39m)\n\u001b[1;32m      3\u001b[0m plt\u001b[38;5;241m.\u001b[39mtitle(\u001b[38;5;124m'\u001b[39m\u001b[38;5;124mval_loss + loss\u001b[39m\u001b[38;5;124m'\u001b[39m)\n",
      "\u001b[0;31mNameError\u001b[0m: name 'epochs' is not defined"
     ]
    }
   ],
   "source": [
    "plt.plot(epochs, loss, label='loss')\n",
    "plt.plot(epochs, val_loss, label='val_loss')\n",
    "plt.title('val_loss + loss')\n",
    "plt.legend()\n",
    "plt.show()"
   ]
  },
  {
   "cell_type": "code",
   "execution_count": 10,
   "id": "ae132af7",
   "metadata": {},
   "outputs": [
    {
     "ename": "NameError",
     "evalue": "name 'epochs' is not defined",
     "output_type": "error",
     "traceback": [
      "\u001b[0;31m---------------------------------------------------------------------------\u001b[0m",
      "\u001b[0;31mNameError\u001b[0m                                 Traceback (most recent call last)",
      "Cell \u001b[0;32mIn[10], line 1\u001b[0m\n\u001b[0;32m----> 1\u001b[0m plt\u001b[38;5;241m.\u001b[39mplot(\u001b[43mepochs\u001b[49m, accuracy, label\u001b[38;5;241m=\u001b[39m\u001b[38;5;124m'\u001b[39m\u001b[38;5;124maccuracy\u001b[39m\u001b[38;5;124m'\u001b[39m)\n\u001b[1;32m      2\u001b[0m plt\u001b[38;5;241m.\u001b[39mplot(epochs, val_accuracy, label\u001b[38;5;241m=\u001b[39m\u001b[38;5;124m'\u001b[39m\u001b[38;5;124mval_accuracy\u001b[39m\u001b[38;5;124m'\u001b[39m)\n\u001b[1;32m      3\u001b[0m plt\u001b[38;5;241m.\u001b[39mtitle(\u001b[38;5;124m'\u001b[39m\u001b[38;5;124mval_accuracy + accuracy\u001b[39m\u001b[38;5;124m'\u001b[39m)\n",
      "\u001b[0;31mNameError\u001b[0m: name 'epochs' is not defined"
     ]
    }
   ],
   "source": [
    "plt.plot(epochs, accuracy, label='accuracy')\n",
    "plt.plot(epochs, val_accuracy, label='val_accuracy')\n",
    "plt.title('val_accuracy + accuracy')\n",
    "plt.legend()\n",
    "plt.show()"
   ]
  },
  {
   "cell_type": "code",
   "execution_count": null,
   "id": "6e2a7ef1",
   "metadata": {},
   "outputs": [],
   "source": []
  }
 ],
 "metadata": {
  "kernelspec": {
   "display_name": "Python 3 (ipykernel)",
   "language": "python",
   "name": "python3"
  },
  "language_info": {
   "codemirror_mode": {
    "name": "ipython",
    "version": 3
   },
   "file_extension": ".py",
   "mimetype": "text/x-python",
   "name": "python",
   "nbconvert_exporter": "python",
   "pygments_lexer": "ipython3",
   "version": "3.10.12"
  }
 },
 "nbformat": 4,
 "nbformat_minor": 5
}
