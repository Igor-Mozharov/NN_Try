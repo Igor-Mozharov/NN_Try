{
 "cells": [
  {
   "cell_type": "code",
   "execution_count": 7,
   "id": "6eff954d",
   "metadata": {},
   "outputs": [],
   "source": [
    "import tensorflow as tf\n",
    "import numpy as np\n",
    "from tensorflow import keras\n",
    "from keras.utils import to_categorical\n",
    "from keras.datasets import cifar10\n",
    "from keras.applications.xception import Xception\n",
    "from keras.layers import Dense, Flatten, Dropout\n",
    "from keras.models import Sequential"
   ]
  },
  {
   "cell_type": "code",
   "execution_count": 8,
   "id": "3c50c5ca",
   "metadata": {},
   "outputs": [],
   "source": [
    "def preprocess_data(X, Y):\n",
    "\tX_p = keras.applications.xception.preprocess_input(X)\n",
    "\tY_p = keras.utils.to_categorical(Y)\n",
    "\treturn X_p, Y_p\n",
    "\n",
    "(x_train, y_train), (x_test, y_test) = cifar10.load_data()\n",
    "\n",
    "model_xception = Xception(weights='imagenet', include_top=False, input_shape=(75, 75, 3), pooling='max')\n",
    "\n",
    "x_train, y_train = preprocess_data(x_train, y_train)\n",
    "x_test, y_test = preprocess_data(x_test, y_test)\n",
    "\n",
    "inp = keras.Input(shape=(32, 32 ,3))\n",
    "inp_resized = keras.layers.Lambda(lambda X: tf.image.resize(X, (75, 75)))(inp)\n",
    "\n",
    "X = model_xception(inp_resized, training=False)\n",
    "X = Flatten()(X)\n",
    "X = Dense(64, activation='relu')(X)\n",
    "# X - Dropout(0.3)(X)\n",
    "outputs = Dense(10, activation='softmax')(X)\n",
    "model = keras.Model(inp, outputs)\n",
    "model_xception.trainable = False\n",
    "model.compile(optimizer='adam', loss='binary_crossentropy', metrics=['accuracy'])"
   ]
  },
  {
   "cell_type": "code",
   "execution_count": null,
   "id": "428e8764",
   "metadata": {},
   "outputs": [
    {
     "name": "stdout",
     "output_type": "stream",
     "text": [
      "Epoch 1/4\n",
      "100/100 [==============================] - 151s 1s/step - loss: 0.2096 - accuracy: 0.6321 - val_loss: 0.1538 - val_accuracy: 0.7263\n",
      "Epoch 2/4\n",
      "100/100 [==============================] - 153s 2s/step - loss: 0.1371 - accuracy: 0.7530 - val_loss: 0.1382 - val_accuracy: 0.7437\n",
      "Epoch 3/4\n",
      "100/100 [==============================] - 148s 1s/step - loss: 0.1233 - accuracy: 0.7739 - val_loss: 0.1290 - val_accuracy: 0.7568\n",
      "Epoch 4/4\n",
      "  7/100 [=>............................] - ETA: 1:54 - loss: 0.1156 - accuracy: 0.7929"
     ]
    }
   ],
   "source": [
    "result = model.fit(x_train, y_train, batch_size=500, epochs=4, validation_data=(x_test, y_test))"
   ]
  },
  {
   "cell_type": "code",
   "execution_count": null,
   "id": "4b736846",
   "metadata": {},
   "outputs": [],
   "source": []
  }
 ],
 "metadata": {
  "kernelspec": {
   "display_name": "Python 3 (ipykernel)",
   "language": "python",
   "name": "python3"
  },
  "language_info": {
   "codemirror_mode": {
    "name": "ipython",
    "version": 3
   },
   "file_extension": ".py",
   "mimetype": "text/x-python",
   "name": "python",
   "nbconvert_exporter": "python",
   "pygments_lexer": "ipython3",
   "version": "3.10.6"
  }
 },
 "nbformat": 4,
 "nbformat_minor": 5
}
